{
 "cells": [
  {
   "cell_type": "code",
   "execution_count": 1,
   "id": "b38174fb",
   "metadata": {},
   "outputs": [],
   "source": [
    "# Tic Tac Toe Board\n",
    "board = [[' ' for _ in range(3)] for _ in range(3)]"
   ]
  },
  {
   "cell_type": "code",
   "execution_count": 2,
   "id": "79024027",
   "metadata": {},
   "outputs": [],
   "source": [
    "# Current Player (X or O)\n",
    "current_player = 'X'"
   ]
  },
  {
   "cell_type": "code",
   "execution_count": 3,
   "id": "ea0c7d4c",
   "metadata": {},
   "outputs": [],
   "source": [
    "def print_board():\n",
    "    for row in board:\n",
    "        print('|'.join(row))\n",
    "        print('-----')\n",
    "    print()"
   ]
  },
  {
   "cell_type": "code",
   "execution_count": 4,
   "id": "d7f33d45",
   "metadata": {},
   "outputs": [
    {
     "name": "stdout",
     "output_type": "stream",
     "text": [
      " | | \n",
      "-----\n",
      " | | \n",
      "-----\n",
      " | | \n",
      "-----\n",
      "\n"
     ]
    }
   ],
   "source": [
    "print_board()"
   ]
  },
  {
   "cell_type": "code",
   "execution_count": 5,
   "id": "01bf1309",
   "metadata": {},
   "outputs": [],
   "source": [
    "def make_move(row, col):\n",
    "    if board[row][col] == ' ':\n",
    "        board[row][col] = current_player\n",
    "        return True\n",
    "    return False"
   ]
  },
  {
   "cell_type": "code",
   "execution_count": 6,
   "id": "aa88686f",
   "metadata": {},
   "outputs": [
    {
     "data": {
      "text/plain": [
       "True"
      ]
     },
     "execution_count": 6,
     "metadata": {},
     "output_type": "execute_result"
    }
   ],
   "source": [
    "make_move(1,1)"
   ]
  },
  {
   "cell_type": "code",
   "execution_count": 7,
   "id": "e50cd439",
   "metadata": {},
   "outputs": [
    {
     "name": "stdout",
     "output_type": "stream",
     "text": [
      " | | \n",
      "-----\n",
      " |X| \n",
      "-----\n",
      " | | \n",
      "-----\n",
      "\n"
     ]
    }
   ],
   "source": [
    "print_board()"
   ]
  },
  {
   "cell_type": "code",
   "execution_count": 8,
   "id": "bd551477",
   "metadata": {},
   "outputs": [
    {
     "data": {
      "text/plain": [
       "'X'"
      ]
     },
     "execution_count": 8,
     "metadata": {},
     "output_type": "execute_result"
    }
   ],
   "source": [
    "current_player"
   ]
  },
  {
   "cell_type": "code",
   "execution_count": 11,
   "id": "9c1ef7c0",
   "metadata": {},
   "outputs": [],
   "source": [
    "def check_win(player):\n",
    "    # Check rows\n",
    "    for row in board:\n",
    "        if all(cell == player for cell in row):\n",
    "            return True\n",
    "    # Check columns\n",
    "    for col in range(3):\n",
    "        if all(board[row][col] == player for row in range(3)):\n",
    "            return True\n",
    "    # Check diagonals\n",
    "    if all(board[i][i] == player for i in range(3)):\n",
    "        return True\n",
    "    if all(board[i][2-i] == player for i in range(3)):\n",
    "        return True\n",
    "    # No win\n",
    "    return False"
   ]
  },
  {
   "cell_type": "code",
   "execution_count": 12,
   "id": "740c6c01",
   "metadata": {},
   "outputs": [
    {
     "data": {
      "text/plain": [
       "False"
      ]
     },
     "execution_count": 12,
     "metadata": {},
     "output_type": "execute_result"
    }
   ],
   "source": [
    "check_win(current_player)"
   ]
  },
  {
   "cell_type": "code",
   "execution_count": 13,
   "id": "558dd484",
   "metadata": {},
   "outputs": [],
   "source": [
    "def check_draw():\n",
    "    return all(cell != ' ' for row in board for cell in row)\n"
   ]
  },
  {
   "cell_type": "code",
   "execution_count": 14,
   "id": "b9cbc52a",
   "metadata": {},
   "outputs": [
    {
     "data": {
      "text/plain": [
       "False"
      ]
     },
     "execution_count": 14,
     "metadata": {},
     "output_type": "execute_result"
    }
   ],
   "source": [
    "check_draw()"
   ]
  },
  {
   "cell_type": "code",
   "execution_count": 15,
   "id": "b767786a",
   "metadata": {},
   "outputs": [],
   "source": [
    "def switch_player():\n",
    "    global current_player\n",
    "    current_player = 'O' if current_player == 'X' else 'X'"
   ]
  },
  {
   "cell_type": "code",
   "execution_count": 16,
   "id": "36c24806",
   "metadata": {},
   "outputs": [],
   "source": [
    "switch_player()"
   ]
  },
  {
   "cell_type": "code",
   "execution_count": 17,
   "id": "0e76f7b2",
   "metadata": {},
   "outputs": [
    {
     "data": {
      "text/plain": [
       "'O'"
      ]
     },
     "execution_count": 17,
     "metadata": {},
     "output_type": "execute_result"
    }
   ],
   "source": [
    "current_player"
   ]
  },
  {
   "cell_type": "code",
   "execution_count": 18,
   "id": "45e83a59",
   "metadata": {},
   "outputs": [
    {
     "data": {
      "text/plain": [
       "True"
      ]
     },
     "execution_count": 18,
     "metadata": {},
     "output_type": "execute_result"
    }
   ],
   "source": [
    "make_move(2,2)"
   ]
  },
  {
   "cell_type": "code",
   "execution_count": 19,
   "id": "595de2a2",
   "metadata": {},
   "outputs": [
    {
     "name": "stdout",
     "output_type": "stream",
     "text": [
      " | | \n",
      "-----\n",
      " |X| \n",
      "-----\n",
      " | |O\n",
      "-----\n",
      "\n"
     ]
    }
   ],
   "source": [
    "print_board()"
   ]
  },
  {
   "cell_type": "code",
   "execution_count": 20,
   "id": "cc393ecd",
   "metadata": {},
   "outputs": [
    {
     "name": "stdout",
     "output_type": "stream",
     "text": [
      " | | \n",
      "-----\n",
      " |X| \n",
      "-----\n",
      " | |O\n",
      "-----\n",
      "\n"
     ]
    },
    {
     "name": "stdin",
     "output_type": "stream",
     "text": [
      "Enter your move (row, col):  0,0\n"
     ]
    },
    {
     "name": "stdout",
     "output_type": "stream",
     "text": [
      "O| | \n",
      "-----\n",
      " |X| \n",
      "-----\n",
      " | |O\n",
      "-----\n",
      "\n"
     ]
    },
    {
     "name": "stdin",
     "output_type": "stream",
     "text": [
      "Enter your move (row, col):  0,1\n"
     ]
    },
    {
     "name": "stdout",
     "output_type": "stream",
     "text": [
      "O|X| \n",
      "-----\n",
      " |X| \n",
      "-----\n",
      " | |O\n",
      "-----\n",
      "\n"
     ]
    },
    {
     "name": "stdin",
     "output_type": "stream",
     "text": [
      "Enter your move (row, col):  0,2\n"
     ]
    },
    {
     "name": "stdout",
     "output_type": "stream",
     "text": [
      "O|X|O\n",
      "-----\n",
      " |X| \n",
      "-----\n",
      " | |O\n",
      "-----\n",
      "\n"
     ]
    },
    {
     "name": "stdin",
     "output_type": "stream",
     "text": [
      "Enter your move (row, col):  2,1\n"
     ]
    },
    {
     "name": "stdout",
     "output_type": "stream",
     "text": [
      "O|X|O\n",
      "-----\n",
      " |X| \n",
      "-----\n",
      " |X|O\n",
      "-----\n",
      "\n",
      "X wins!\n"
     ]
    }
   ],
   "source": [
    "print_board()\n",
    "while True:\n",
    "    move = input(\"Enter your move (row, col): \")\n",
    "    row, col = map(int, move.split(','))\n",
    "    if make_move(row, col):\n",
    "        print_board()\n",
    "        if check_win(current_player):\n",
    "            print(current_player, \"wins!\")\n",
    "            break\n",
    "        elif check_draw():\n",
    "            print(\"It's a draw!\")\n",
    "            break\n",
    "        switch_player()\n",
    "    else:\n",
    "        print(\"Invalid move. Try again.\")"
   ]
  },
  {
   "cell_type": "code",
   "execution_count": null,
   "id": "7a128227",
   "metadata": {},
   "outputs": [],
   "source": []
  }
 ],
 "metadata": {
  "kernelspec": {
   "display_name": "Python 3",
   "language": "python",
   "name": "python3"
  },
  "language_info": {
   "codemirror_mode": {
    "name": "ipython",
    "version": 3
   },
   "file_extension": ".py",
   "mimetype": "text/x-python",
   "name": "python",
   "nbconvert_exporter": "python",
   "pygments_lexer": "ipython3",
   "version": "3.8.5"
  }
 },
 "nbformat": 4,
 "nbformat_minor": 5
}
